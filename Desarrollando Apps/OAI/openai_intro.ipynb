{
 "cells": [
  {
   "cell_type": "markdown",
   "metadata": {},
   "source": [
    "## OpenAI\n",
    "\n",
    "- LLMs para integrar en nuestras aplicaciones disponibles a través de REST APIs\n",
    "\n",
    "- Modelos\n",
    "    - GPT-4 y GPT-4 Turbo: Un conjunto de modelos que mejoran el rendimiento de GPT-3.5 y pueden entender y generar tanto lenguaje natural como código.\n",
    "\n",
    "    - GPT-3.5: Un conjunto de modelos que mejoran el rendimiento de GPT-3 y pueden entender y generar tanto lenguaje natural como código.\n",
    "\n",
    "    - DALL·E: Un modelo que puede generar y editar imágenes según una indicación en lenguaje natural.\n",
    "    \n",
    "    - Embeddings: Un conjunto de modelos que pueden convertir texto en una forma numérica."
   ]
  },
  {
   "cell_type": "markdown",
   "metadata": {},
   "source": [
    "Características:\n",
    "\n",
    "- Integración\n",
    "- Modelos preentrenados\n",
    "- Fine-tuning\n",
    "- Escalabilidad"
   ]
  },
  {
   "cell_type": "markdown",
   "metadata": {},
   "source": [
    "OpenAI API\n",
    "\n",
    "- Se puede interactuar con el API de OpenAI mediante solicitudes HTTP \n",
    "desde Python utilizando la biblioteca openai\n",
    "- En un entorno de desarrollo de Python se utiliza pip para instalarla\n"
   ]
  },
  {
   "cell_type": "code",
   "execution_count": null,
   "metadata": {},
   "outputs": [],
   "source": [
    "! pip install openai"
   ]
  },
  {
   "cell_type": "markdown",
   "metadata": {},
   "source": [
    "- Debemos contar con API key: (https://platform.openai.com/)"
   ]
  },
  {
   "cell_type": "markdown",
   "metadata": {},
   "source": [
    "1. Crear cuenta de OpenAI, si no tienes una cuenta de ChatGPT. En caso de tener cuenta loggearse.\n",
    "2. Una vez dentro de la organización, dirígete a la sección *\"API Keys\"* y haz clic en el botón *\"Create new API key\"*.\n",
    "3. Aparecerá una ventana con la clave de acceso. Es importante que guardes esta clave en un lugar seguro, ya que no podrás verla nuevamente.\n"
   ]
  },
  {
   "cell_type": "markdown",
   "metadata": {},
   "source": [
    "- Cargar la key como una variable de entorno para usar en este proyecto específico"
   ]
  },
  {
   "cell_type": "code",
   "execution_count": 45,
   "metadata": {},
   "outputs": [],
   "source": [
    "from dotenv import load_dotenv\n",
    "load_dotenv()\n",
    "import os\n",
    "key = os.getenv(\"OPENAI_API_KEY\")"
   ]
  },
  {
   "cell_type": "markdown",
   "metadata": {},
   "source": [
    "- Utilizar la API key para hacer solicitudes HTTP a la API y autenticarse"
   ]
  },
  {
   "cell_type": "code",
   "execution_count": 47,
   "metadata": {},
   "outputs": [],
   "source": [
    "from openai import OpenAI\n",
    "client = OpenAI(api_key=key)"
   ]
  },
  {
   "cell_type": "code",
   "execution_count": null,
   "metadata": {},
   "outputs": [],
   "source": [
    "completion = client.chat.completions.create(\n",
    "  model=\"gpt-3.5-turbo\",\n",
    "  messages=[\n",
    "    {\"role\": \"system\", \"content\": \"Eres un asistente de poesía.\"},\n",
    "    {\"role\": \"user\", \"content\": \"Compón un poema que explique el concepto de recursividad.\"}\n",
    "  ]\n",
    ")\n",
    "\n",
    "print (completion.choices[0].message.content)\n"
   ]
  },
  {
   "cell_type": "markdown",
   "metadata": {},
   "source": [
    "### Text Generation Models"
   ]
  },
  {
   "cell_type": "markdown",
   "metadata": {},
   "source": [
    "\n",
    "- Modelos más nuevos (2023–)......................gpt-4, gpt-4 turbo, gpt-3.5-turbo\n",
    "\n",
    "- Modelos legacy (2023)....................gpt-3.5-turbo-instruct, babbage-002, davinci-002\n",
    "\n"
   ]
  },
  {
   "cell_type": "markdown",
   "metadata": {},
   "source": [
    "### Endpoints: Chat\n",
    "\n",
    "- Ejemplo de llamada a la API de Chat Completions\n",
    "- Más información sobre [Create Chat Completions](https://platform.openai.com/docs/api-reference/chat/create)"
   ]
  },
  {
   "cell_type": "code",
   "execution_count": 61,
   "metadata": {},
   "outputs": [],
   "source": [
    "from openai import OpenAI\n",
    "client = OpenAI()\n",
    "\n",
    "response = client.chat.completions.create(\n",
    "  model=\"gpt-3.5-turbo\",\n",
    "  messages=[\n",
    "    {\"role\": \"system\", \"content\": \"Eres un asistente útil.\"},\n",
    "    {\"role\": \"user\", \"content\": \"¿Quién ganó la copa del mundo en 2018?\"},\n",
    "    {\"role\": \"assistant\", \"content\": \"Francia ganó la copa del mundo en 2018.\"},\n",
    "    {\"role\": \"user\", \"content\": \"¿Dónde se jugó?\"}\n",
    "  ]\n",
    ")"
   ]
  },
  {
   "cell_type": "code",
   "execution_count": null,
   "metadata": {},
   "outputs": [],
   "source": [
    "print (response.choices[0].message.content)"
   ]
  },
  {
   "cell_type": "markdown",
   "metadata": {},
   "source": []
  }
 ],
 "metadata": {
  "kernelspec": {
   "display_name": "Python 3",
   "language": "python",
   "name": "python3"
  },
  "language_info": {
   "codemirror_mode": {
    "name": "ipython",
    "version": 3
   },
   "file_extension": ".py",
   "mimetype": "text/x-python",
   "name": "python",
   "nbconvert_exporter": "python",
   "pygments_lexer": "ipython3",
   "version": "3.10.13"
  }
 },
 "nbformat": 4,
 "nbformat_minor": 2
}
