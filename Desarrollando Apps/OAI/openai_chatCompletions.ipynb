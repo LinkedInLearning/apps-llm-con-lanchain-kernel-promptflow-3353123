{
 "cells": [
  {
   "cell_type": "markdown",
   "metadata": {},
   "source": [
    "### Text Generation"
   ]
  },
  {
   "cell_type": "code",
   "execution_count": null,
   "metadata": {},
   "outputs": [],
   "source": [
    "! pip install load_dotenv\n",
    "! pip install openai"
   ]
  },
  {
   "cell_type": "code",
   "execution_count": 4,
   "metadata": {},
   "outputs": [],
   "source": [
    "from dotenv import load_dotenv\n",
    "from openai import OpenAI\n",
    "import os\n",
    "\n",
    "load_dotenv()\n",
    "key = os.getenv(\"OPENAI_API_KEY\")\n",
    "client = OpenAI(api_key=key)\n"
   ]
  },
  {
   "cell_type": "code",
   "execution_count": 6,
   "metadata": {},
   "outputs": [],
   "source": [
    "completion = client.chat.completions.create(\n",
    "  model=\"gpt-3.5-turbo\",\n",
    "  messages=[\n",
    "    {\"role\": \"system\", \"content\": \"Eres un asistente de poesía.\"},\n",
    "    {\"role\": \"user\", \"content\": \"Compón un poema que explique el concepto de recursividad en programación.\"}\n",
    "  ]\n",
    ")"
   ]
  },
  {
   "cell_type": "code",
   "execution_count": 20,
   "metadata": {},
   "outputs": [
    {
     "name": "stdout",
     "output_type": "stream",
     "text": [
      "En el vasto universo de la programación,\n",
      "donde algoritmos y ciclos encuentran su razón,\n",
      "existe un valioso concepto, sublime en su creación:\n",
      "la recursividad, fuente de inspiración.\n",
      "\n",
      "Como un bucle que a sí mismo se llama,\n",
      "la recursividad en el código se encarama,\n",
      "de modo que una función, sin temor ni flama,\n",
      "puede repetirse a sí misma, ¡qué maravilla tan extraña!\n",
      "\n",
      "Entra en un cauce sin fin, en un mundo sin fronteras,\n",
      "donde cada iteración despierta nuevas quimeras,\n",
      "y mientras avanza, en cada llamada sincera,\n",
      "envuelta en un abrazo de variables, se desespera.\n",
      "\n",
      "Programador, con maestría, dibuja en el lienzo digital,\n",
      "olvidando las reglas de un ciclo trivial,\n",
      "y al diseñar una función recursiva en su ideal,\n",
      "construye un laberinto poético sin final.\n",
      "\n",
      "Con base en casos base, punto de partida,\n",
      "la recursividad despliega su esencia, ya comprendida,\n",
      "y a medida que se adentra en su trama tejida,\n",
      "resuelve problemas con una lógica atrevida.\n",
      "\n",
      "En la niebla del bucle, donde el retorno se fragua,\n",
      "se crean soluciones como cascadas en aguas,\n",
      "y poco a poco, en un baile de jugadas,\n",
      "la recursividad revela su magia preciada.\n",
      "\n",
      "Como el eco que retorna con voz recurrente,\n",
      "en el código, la recursividad se presenta poderosa y valiente,\n",
      "y con cada llamada, con fervor persistente,\n",
      "da vida a estructuras límpidas y coherentes.\n",
      "\n",
      "Confía, programador, en tu recursividad,\n",
      "enlaza las funciones con habilidad y sencillez,\n",
      "y así tu código alcanzará clara solemnidad,\n",
      "como una bella poesía, llena de brillantez.\n",
      "\n",
      "En el vasto universo de la programación,\n",
      "donde algoritmos y ciclos encuentran su razón,\n",
      "la recursividad se alza como una canción,\n",
      "una melodía que inspira, llena de admiración.\n"
     ]
    }
   ],
   "source": [
    "print (completion.choices[0].message.content)"
   ]
  },
  {
   "cell_type": "markdown",
   "metadata": {},
   "source": [
    "### Recent Models"
   ]
  },
  {
   "cell_type": "markdown",
   "metadata": {},
   "source": [
    "\n",
    "- Modelos más nuevos (2023–)......................gpt-4, gpt-4 turbo, gpt-3.5-turbo\n",
    "\n",
    "- Modelos legacy (2023)....................gpt-3.5-turbo-instruct, babbage-002, davinci-002"
   ]
  },
  {
   "cell_type": "markdown",
   "metadata": {},
   "source": [
    "### Chat Endpoint\n",
    "\n",
    "- Más información sobre [Create Chat Completions](https://platform.openai.com/docs/api-reference/chat/create)"
   ]
  },
  {
   "cell_type": "code",
   "execution_count": 14,
   "metadata": {},
   "outputs": [],
   "source": [
    "from openai import OpenAI\n",
    "client = OpenAI()\n",
    "\n",
    "response = client.chat.completions.create(\n",
    "  model=\"gpt-3.5-turbo\",\n",
    "  messages=[\n",
    "    {\"role\": \"system\", \"content\": \"Eres un asistente servicial.\"},\n",
    "    {\"role\": \"user\", \"content\": \"¿Quién ganó la copa del mundo en 2018?\"},\n",
    "    {\"role\": \"assistant\", \"content\": \"Francia ganó la copa del mundo en 2018.\"},\n",
    "    {\"role\": \"user\", \"content\": \"¿Dónde se jugó?\"}\n",
    "  ]\n",
    ")"
   ]
  },
  {
   "cell_type": "markdown",
   "metadata": {},
   "source": [
    "- sistema: comportamiento del asistente \n",
    "\n",
    "    ej: Eres un asistente servicial sobre eventos deportivos\n",
    "\n",
    "- usuario: solicitudes para que responda el asistente\n",
    "\n",
    "    ej: ¿Qué jugador ha recibido más balones de oro a lo largo de la historia?\n",
    "    ej: ¿Cuándo ganó su primer premio?\n",
    "\n",
    "- asistente: respuestas previas\n",
    "\n",
    "    ej: Lionel Messi\n"
   ]
  },
  {
   "cell_type": "code",
   "execution_count": 21,
   "metadata": {},
   "outputs": [
    {
     "name": "stdout",
     "output_type": "stream",
     "text": [
      "La Copa del Mundo de 2018 se jugó en Rusia.\n"
     ]
    }
   ],
   "source": [
    "print (response.choices[0].message.content)"
   ]
  }
 ],
 "metadata": {
  "kernelspec": {
   "display_name": "Python 3",
   "language": "python",
   "name": "python3"
  },
  "language_info": {
   "codemirror_mode": {
    "name": "ipython",
    "version": 3
   },
   "file_extension": ".py",
   "mimetype": "text/x-python",
   "name": "python",
   "nbconvert_exporter": "python",
   "pygments_lexer": "ipython3",
   "version": "3.12.2"
  }
 },
 "nbformat": 4,
 "nbformat_minor": 2
}
