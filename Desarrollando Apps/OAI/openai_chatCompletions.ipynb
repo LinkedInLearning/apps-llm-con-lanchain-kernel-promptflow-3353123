{
 "cells": [
  {
   "cell_type": "markdown",
   "metadata": {},
   "source": [
    "#### Text Generation"
   ]
  },
  {
   "cell_type": "markdown",
   "metadata": {},
   "source": [
    "- Prompt: funciona como una “entrada de información” con la cual el usuario le especifica el contexto y la tarea que se espera que la herramienta complete"
   ]
  },
  {
   "cell_type": "code",
   "execution_count": 2,
   "metadata": {},
   "outputs": [],
   "source": [
    "from dotenv import load_dotenv\n",
    "from openai import OpenAI\n",
    "import os\n",
    "\n",
    "load_dotenv()\n",
    "key = os.getenv(\"OPENAI_API_KEY\")\n",
    "client = OpenAI(api_key=key)"
   ]
  },
  {
   "cell_type": "code",
   "execution_count": 9,
   "metadata": {},
   "outputs": [],
   "source": [
    "completion = client.chat.completions.create(\n",
    "  model=\"gpt-3.5-turbo\",\n",
    "  messages=[\n",
    "    {\"role\": \"system\", \"content\": \"Eres un asistente de poesía.\"},\n",
    "    {\"role\": \"user\", \"content\": \"Compón un poema que explique el concepto de recursividad.\"}\n",
    "  ]\n",
    ")"
   ]
  },
  {
   "cell_type": "code",
   "execution_count": null,
   "metadata": {},
   "outputs": [],
   "source": [
    "print (completion.choices[0].message.content)"
   ]
  },
  {
   "cell_type": "markdown",
   "metadata": {},
   "source": [
    "#### Recent Models"
   ]
  },
  {
   "cell_type": "markdown",
   "metadata": {},
   "source": [
    "\n",
    "- Modelos más nuevos (2023–)......................gpt-4, gpt-4 turbo, gpt-3.5-turbo\n",
    "\n",
    "- Modelos legacy (2023)....................gpt-3.5-turbo-instruct, babbage-002, davinci-002"
   ]
  },
  {
   "cell_type": "markdown",
   "metadata": {},
   "source": [
    "### Endpoints: Chat\n",
    "\n",
    "- Ejemplo de llamada a la API de Chat Completions\n",
    "- Más información sobre [Create Chat Completions](https://platform.openai.com/docs/api-reference/chat/create)"
   ]
  },
  {
   "cell_type": "code",
   "execution_count": 4,
   "metadata": {},
   "outputs": [],
   "source": [
    "from openai import OpenAI\n",
    "client = OpenAI()\n",
    "\n",
    "response = client.chat.completions.create(\n",
    "  model=\"gpt-3.5-turbo\",\n",
    "  messages=[\n",
    "    {\"role\": \"system\", \"content\": \"Eres un asistente útil.\"},\n",
    "    {\"role\": \"user\", \"content\": \"¿Quién ganó la copa del mundo en 2018?\"},\n",
    "    {\"role\": \"assistant\", \"content\": \"Francia ganó la copa del mundo en 2018.\"},\n",
    "    {\"role\": \"user\", \"content\": \"¿Dónde se jugó?\"}\n",
    "  ]\n",
    ")"
   ]
  },
  {
   "cell_type": "markdown",
   "metadata": {},
   "source": [
    "- sistema: comportamiento del asistente \n",
    "\n",
    "    ej: Eres un asistente servicial sobre eventos deportivos\n",
    "\n",
    "- usuario: solicitudes para que responda el asistente\n",
    "\n",
    "    ej: ¿Qué jugador ha recibido más balones de oro a lo largo de la historia?\n",
    "    ej: ¿Cuándo ganó su primer premio?\n",
    "\n",
    "- asistente: respuestas previas\n",
    "\n",
    "    ej: Lionel Messi\n"
   ]
  },
  {
   "cell_type": "code",
   "execution_count": null,
   "metadata": {},
   "outputs": [],
   "source": [
    "print (response.choices[0].message.content)"
   ]
  }
 ],
 "metadata": {
  "kernelspec": {
   "display_name": "Python 3",
   "language": "python",
   "name": "python3"
  },
  "language_info": {
   "codemirror_mode": {
    "name": "ipython",
    "version": 3
   },
   "file_extension": ".py",
   "mimetype": "text/x-python",
   "name": "python",
   "nbconvert_exporter": "python",
   "pygments_lexer": "ipython3",
   "version": "3.10.13"
  }
 },
 "nbformat": 4,
 "nbformat_minor": 2
}
